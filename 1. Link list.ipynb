{
 "cells": [
  {
   "cell_type": "code",
   "execution_count": 11,
   "metadata": {},
   "outputs": [],
   "source": [
    "class Node:\n",
    "    def __init__(self, value):\n",
    "        self.info = value\n",
    "        self.link= None   # At starting link is None\n",
    "        \n",
    "class SingleLinkList:\n",
    "    def __init__(self):\n",
    "        self.start= None   # strting point\n",
    "        \n",
    "    def inset_in_begine(self, data):\n",
    "        temp= Node(data)\n",
    "        temp.link = self.start\n",
    "        self.start= temp\n",
    "        \n",
    "    def insert_at_end(self,data):\n",
    "        temp= Node(data)\n",
    "        if self.start is None:\n",
    "            self.start= temp\n",
    "            \n",
    "        else:\n",
    "            p = self.start\n",
    "            if p.link is not None:\n",
    "                p = p.link\n",
    "            p.link= temp\n",
    "            \n",
    "    def create_list(self):\n",
    "        # add new value in list at the end\n",
    "        n= int(input('Enter the number of nodes:'))\n",
    "        if n==0:\n",
    "            return\n",
    "        \n",
    "        for i in range(n):\n",
    "            data = int(input('Enter the value to be inserted'))\n",
    "            self.insert_at_end(data)\n",
    "            \n",
    "            \n",
    "    def intsert_after(self,data,x):\n",
    "        p= self.start\n",
    "        while p is not None:\n",
    "            if p.info ==x:\n",
    "                break\n",
    "        p= p.link\n",
    "        \n",
    "        if p is None:\n",
    "            print(x, 'is not in list')\n",
    "        else:\n",
    "            # inset after the value\n",
    "            temp= Node(data)\n",
    "            temp.link= p.link\n",
    "            p.link = temp\n",
    "            \n",
    "    def insert_before(self, data, x):\n",
    "        # check if list is empty\n",
    "        if self.start is None:\n",
    "            print('List is empty')\n",
    "            return\n",
    "               \n",
    "        # x is 1st node then insert new list before the node\n",
    "        \n",
    "        if self.start.info == x:\n",
    "            temp = Node(data)\n",
    "            temp.link = self.start\n",
    "            self.start = temp\n",
    "            return\n",
    "        \n",
    "        #find reference to predecessor  of node containing  x\n",
    "        \n",
    "        \n",
    "    def display_list(self):\n",
    "        if self.start is None:\n",
    "            print('List is empty')\n",
    "        else:\n",
    "            p = self.start   \n",
    "            while p is not None:\n",
    "                print(p.info, ' ', end='')\n",
    "                p = p.link\n",
    "                \n",
    "    def count_nodes(self):\n",
    "        # count the number of nodes in list\n",
    "        p= self.start  # starting position\n",
    "        n=0\n",
    "        while p is not None:\n",
    "            n += 1\n",
    "            p = p.link\n",
    "        print('Number of list in node', n)\n",
    "        \n",
    "    def search_node(self, x):\n",
    "        # search position of given number/value/info\n",
    "        p = self.start\n",
    "        position =1\n",
    "        while p is not None:\n",
    "            if p.info == x:\n",
    "                print(\"Position of link \", position)\n",
    "                return True # function will end here no need to go further\n",
    "            position += 1\n",
    "            p = p.link\n",
    "        else:\n",
    "            print(x,'not found in list ')\n",
    "            return False\n",
    "            \n",
    "            \n",
    "\n",
    "lst = SingleLinkList()       "
   ]
  },
  {
   "cell_type": "code",
   "execution_count": 15,
   "metadata": {},
   "outputs": [
    {
     "name": "stdout",
     "output_type": "stream",
     "text": [
      "4  5  6  "
     ]
    }
   ],
   "source": [
    "\n",
    "lst.display_list()"
   ]
  },
  {
   "cell_type": "code",
   "execution_count": 17,
   "metadata": {},
   "outputs": [
    {
     "name": "stdout",
     "output_type": "stream",
     "text": [
      "Position of link  1\n"
     ]
    },
    {
     "data": {
      "text/plain": [
       "True"
      ]
     },
     "execution_count": 17,
     "metadata": {},
     "output_type": "execute_result"
    }
   ],
   "source": [
    "lst.search_node(4)"
   ]
  },
  {
   "cell_type": "code",
   "execution_count": 14,
   "metadata": {},
   "outputs": [
    {
     "name": "stdout",
     "output_type": "stream",
     "text": [
      "Enter the number of nodes:3\n",
      "Enter the value to be inserted4\n",
      "Enter the value to be inserted5\n",
      "Enter the value to be inserted6\n"
     ]
    }
   ],
   "source": [
    "lst.create_list()"
   ]
  },
  {
   "cell_type": "code",
   "execution_count": null,
   "metadata": {},
   "outputs": [],
   "source": []
  }
 ],
 "metadata": {
  "kernelspec": {
   "display_name": "Python 3",
   "language": "python",
   "name": "python3"
  },
  "language_info": {
   "codemirror_mode": {
    "name": "ipython",
    "version": 3
   },
   "file_extension": ".py",
   "mimetype": "text/x-python",
   "name": "python",
   "nbconvert_exporter": "python",
   "pygments_lexer": "ipython3",
   "version": "3.6.7"
  }
 },
 "nbformat": 4,
 "nbformat_minor": 2
}
