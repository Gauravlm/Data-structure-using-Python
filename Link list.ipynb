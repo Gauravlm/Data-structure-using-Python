{
 "cells": [
  {
   "cell_type": "code",
   "execution_count": 18,
   "metadata": {},
   "outputs": [],
   "source": [
    "class Node:\n",
    "    def __init__(self, value):\n",
    "        self.info = value\n",
    "        self.link= None   # At starting link is None\n",
    "        \n",
    "class SingleLinkList:\n",
    "    def __init__(self):\n",
    "        self.start= None   # strting point\n",
    "        \n",
    "    def inset_in_begine(self, data):\n",
    "        temp= Node(data)\n",
    "        temp.link = self.start\n",
    "        self.start= temp\n",
    "        \n",
    "    def insert_at_end(self,data):\n",
    "        temp= Node(data)\n",
    "        if self.start is None:\n",
    "            self.start= temp\n",
    "            \n",
    "        else:\n",
    "            p = self.start\n",
    "            if p.link is not None:\n",
    "                p = p.link\n",
    "            p.link= temp\n",
    "            \n",
    "    def create_list(self):\n",
    "        # add new value in list at the end\n",
    "        n= int(input('Enter the number of nodes:'))\n",
    "        if n==0:\n",
    "            return\n",
    "        \n",
    "        for i in range(n):\n",
    "            data = int(input('Enter the value to be inserted'))\n",
    "            self.insert_at_end(data)\n",
    "            \n",
    "            \n",
    "    def intsert_after(self,data,x):\n",
    "        p= self.start\n",
    "        while p is not None:\n",
    "            if p.info ==x:\n",
    "                break\n",
    "        p= p.link\n",
    "        \n",
    "        if p is None:\n",
    "            print(x, 'is not in list')\n",
    "        else:\n",
    "            # inset after the value\n",
    "            temp= Node(data)\n",
    "            temp.link= p.link\n",
    "            p.link = temp\n",
    "            \n",
    "    def insert_before(self, data, x):\n",
    "        # check if list is empty\n",
    "        if self.start is None:\n",
    "            print('List is empty')\n",
    "            return\n",
    "               \n",
    "        # x is 1st node then insert new list before the node\n",
    "        \n",
    "        if self.start.info == x:\n",
    "            temp = Node(data)\n",
    "            temp.link = self.start\n",
    "            self.start = temp\n",
    "            return\n",
    "        \n",
    "        #find reference to predecessor  of node containing  x\n",
    "        p = self.link\n",
    "        while p.link is None:\n",
    "            if p.link.info == x:\n",
    "                break\n",
    "            p = p.link\n",
    "            \n",
    "        if p.link is None:\n",
    "            print(x,'is not in list')\n",
    "        else:\n",
    "            temp= Node(data)\n",
    "            temp.link = p.link\n",
    "            p.link = temp\n",
    "            \n",
    "    def insert_at_position(self,data,k):\n",
    "        # k is position\n",
    "        if k ==1:\n",
    "            temp = Node(data)\n",
    "            temp= self.start\n",
    "            self.start= temp\n",
    "        \n",
    "        p = self.start\n",
    "        i=1\n",
    "        if i < k-1 and p is not None:   # find the reference to k-1 node\n",
    "            p = p.link\n",
    "            i +=1 \n",
    "            \n",
    "        if p is None:\n",
    "            print(' You can only insert only upto position', i)\n",
    "        else:\n",
    "            temp = Node(data)\n",
    "            temp.link = p.link\n",
    "            p.link = temp\n",
    "            \n",
    "            \n",
    "    def delete_first_node(self):\n",
    "        if self.strat is None:\n",
    "            return\n",
    "        self.start = self.start.link\n",
    "        \n",
    "    def delete_last_node(self):\n",
    "        \n",
    "        # check start has any node\n",
    "        if self.start is None:\n",
    "            return\n",
    "        \n",
    "        #check if there is another node for start \n",
    "        if self.start.link is None:\n",
    "            self.start= None\n",
    "            return\n",
    "        \n",
    "        # if there is no. of nodes then find 2nd last node and make that node as end of node\n",
    "        p = self.start\n",
    "        while p.link.link is not None:\n",
    "            p= p.link\n",
    "        p.link = None\n",
    "            \n",
    "    def delete_node(self,x):\n",
    "        # delete the node at given value\n",
    "        \n",
    "        # if list is empty\n",
    "        if self.start is None:\n",
    "            print('List is empty')\n",
    "            \n",
    "        # if value is at fisrt node then give 2nd node link to start\n",
    "        if self.start.info ==x:\n",
    "            self.start =  self.start.link\n",
    "            \n",
    "        # delete the between or last node\n",
    "        p = self.start\n",
    "        while p.link is not None:\n",
    "            if p.link.info == x:\n",
    "                break\n",
    "            p= p.link\n",
    "        \n",
    "        if p.link is not None:\n",
    "            print('Element', x, 'is not in list')\n",
    "        else:\n",
    "            p.link = p.link.link\n",
    "                \n",
    "        \n",
    "    def display_list(self):\n",
    "        # display all value from list\n",
    "        if self.start is None:\n",
    "            print('List is empty')\n",
    "        else:\n",
    "            p = self.start   \n",
    "            while p is not None:\n",
    "                print(p.info, ' ', end='')\n",
    "                p = p.link\n",
    "                \n",
    "    def count_nodes(self):\n",
    "        # count the number of nodes in list\n",
    "        p= self.start  # starting position\n",
    "        n=0\n",
    "        while p is not None:\n",
    "            n += 1\n",
    "            p = p.link\n",
    "        print('Number of list in node', n)\n",
    "        \n",
    "    def search_node(self, x):\n",
    "        # search position of given number/value/info\n",
    "        p = self.start\n",
    "        position =1\n",
    "        while p is not None:\n",
    "            if p.info == x:\n",
    "                print(\"Position of link \", position)\n",
    "                return True # function will end here no need to go further\n",
    "            position += 1\n",
    "            p = p.link\n",
    "        else:\n",
    "            print(x,'not found in list ')\n",
    "            return False\n",
    "            \n",
    "            \n",
    "\n",
    "lst = SingleLinkList()       "
   ]
  },
  {
   "cell_type": "code",
   "execution_count": 21,
   "metadata": {},
   "outputs": [
    {
     "name": "stdout",
     "output_type": "stream",
     "text": [
      "List is empty\n"
     ]
    }
   ],
   "source": [
    "\n",
    "lst.display_list()"
   ]
  },
  {
   "cell_type": "code",
   "execution_count": 22,
   "metadata": {},
   "outputs": [
    {
     "name": "stdout",
     "output_type": "stream",
     "text": [
      "4 not found in list \n"
     ]
    },
    {
     "data": {
      "text/plain": [
       "False"
      ]
     },
     "execution_count": 22,
     "metadata": {},
     "output_type": "execute_result"
    }
   ],
   "source": [
    "lst.search_node(4)"
   ]
  },
  {
   "cell_type": "code",
   "execution_count": 23,
   "metadata": {},
   "outputs": [
    {
     "name": "stdout",
     "output_type": "stream",
     "text": [
      "Enter the number of nodes:3\n",
      "Enter the value to be inserted5\n",
      "Enter the value to be inserted4\n",
      "Enter the value to be inserted6\n"
     ]
    }
   ],
   "source": [
    "lst.create_list()"
   ]
  },
  {
   "cell_type": "code",
   "execution_count": 25,
   "metadata": {},
   "outputs": [
    {
     "name": "stdout",
     "output_type": "stream",
     "text": [
      "5  3  3  4  6  "
     ]
    }
   ],
   "source": [
    "lst.insert_at_position(3,1)\n",
    "lst.display_list()"
   ]
  },
  {
   "cell_type": "code",
   "execution_count": null,
   "metadata": {},
   "outputs": [],
   "source": []
  }
 ],
 "metadata": {
  "kernelspec": {
   "display_name": "Python 3",
   "language": "python",
   "name": "python3"
  },
  "language_info": {
   "codemirror_mode": {
    "name": "ipython",
    "version": 3
   },
   "file_extension": ".py",
   "mimetype": "text/x-python",
   "name": "python",
   "nbconvert_exporter": "python",
   "pygments_lexer": "ipython3",
   "version": "3.6.7"
  }
 },
 "nbformat": 4,
 "nbformat_minor": 2
}
