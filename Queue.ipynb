{
 "cells": [
  {
   "cell_type": "code",
   "execution_count": 3,
   "metadata": {},
   "outputs": [
    {
     "name": "stdout",
     "output_type": "stream",
     "text": [
      "[1]\n",
      "[1, 8]\n",
      "[1, 8, 6]\n",
      "[1, 8, 6, 3]\n",
      "[1, 8, 6, 3, 11]\n",
      "[8, 6, 3, 11]\n"
     ]
    }
   ],
   "source": [
    "class EmptyQueueError(Exception):\n",
    "    pass\n",
    "\n",
    "class Queue:\n",
    "    \n",
    "    def __init__(self):\n",
    "        self.items = []\n",
    "        \n",
    "    def is_empty(self):\n",
    "        return self.items == []\n",
    "    \n",
    "    def size(self):\n",
    "        return len(self.items)\n",
    "    \n",
    "    # enqueue is similar to push in stack\n",
    "    def enqueue(self, data):  \n",
    "        self.items.append(data)\n",
    "        \n",
    "    def dequeue(self):\n",
    "        if self.is_empty():\n",
    "            raise EmptyQueueError('Queue is Empty')\n",
    "        return self.items.pop(0)\n",
    "    \n",
    "    def peek(self):\n",
    "        if self.is_empty():\n",
    "            raise EmptyQueueError('Queue is Empty')\n",
    "        return self.items[0]\n",
    "    \n",
    "    def display(self):\n",
    "        print(self.items)\n",
    "        \n",
    "\n",
    "qu = Queue()\n",
    "\n",
    "qu.enqueue(1)\n",
    "qu.display()\n",
    "qu.enqueue(8) # entry of data is at end\n",
    "qu.display()\n",
    "qu.enqueue(6)\n",
    "qu.display()\n",
    "qu.enqueue(3)\n",
    "qu.display()\n",
    "qu.enqueue(11)\n",
    "qu.display()\n",
    "        \n",
    "qu.dequeue() # deletion is start at 1st position\n",
    "qu.display()\n",
    "        \n",
    "            "
   ]
  },
  {
   "cell_type": "code",
   "execution_count": null,
   "metadata": {},
   "outputs": [],
   "source": []
  }
 ],
 "metadata": {
  "kernelspec": {
   "display_name": "Python 3",
   "language": "python",
   "name": "python3"
  },
  "language_info": {
   "codemirror_mode": {
    "name": "ipython",
    "version": 3
   },
   "file_extension": ".py",
   "mimetype": "text/x-python",
   "name": "python",
   "nbconvert_exporter": "python",
   "pygments_lexer": "ipython3",
   "version": "3.6.7"
  }
 },
 "nbformat": 4,
 "nbformat_minor": 2
}
