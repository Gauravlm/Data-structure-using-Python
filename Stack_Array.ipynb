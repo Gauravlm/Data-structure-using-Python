{
 "cells": [
  {
   "cell_type": "code",
   "execution_count": 13,
   "metadata": {},
   "outputs": [
    {
     "name": "stdout",
     "output_type": "stream",
     "text": [
      "[1, 2, 3]\n",
      "[1]\n"
     ]
    }
   ],
   "source": [
    "# basic operation of stack\n",
    "\n",
    "class EmptyStackError(Exception):\n",
    "    pass\n",
    "\n",
    "class Stack:\n",
    "    def __init__(self):\n",
    "        self.items = []\n",
    "        \n",
    "    def is_empty(self):\n",
    "        return self.items == []\n",
    "    \n",
    "    def size(self):\n",
    "        return len(self.items)\n",
    "    \n",
    "    def push(self, item):\n",
    "        return self.items.append(item)\n",
    "    \n",
    "    def pop(self):\n",
    "        if self.is_empty():\n",
    "            raise EmptyStackError('Stack is Empty')\n",
    "        return self.items.pop()\n",
    "    \n",
    "    def peek(self):\n",
    "        if self.is_empty():\n",
    "            raise EmptyStackError('Stack is Empty')\n",
    "        return self.items[-1]\n",
    "    \n",
    "    def display(self):\n",
    "        print(self.items)\n",
    "        \n",
    "if __name__ == '__main__':\n",
    "    st = Stack()\n",
    "    \n",
    "    st.push(1)\n",
    "    st.push(2)\n",
    "    st.push(3)\n",
    "    \n",
    "    st.display()\n",
    "    \n"
   ]
  },
  {
   "cell_type": "code",
   "execution_count": 16,
   "metadata": {},
   "outputs": [
    {
     "name": "stdout",
     "output_type": "stream",
     "text": [
      "[1, 2, 3, None, None, None, None, None, None, None]\n",
      "[1, 2, None, None, None, None, None, None, None, None]\n"
     ]
    }
   ],
   "source": [
    "# basic operation of stack\n",
    "\n",
    "class EmptyStackError(Exception):\n",
    "    pass\n",
    "\n",
    "class Stack:\n",
    "    def __init__(self, max_size=10):\n",
    "        self.items = [None] * max_size\n",
    "        self.count =0\n",
    "        \n",
    "    def is_empty(self):\n",
    "        return self.items == []\n",
    "    \n",
    "    def size(self):\n",
    "        return self.count\n",
    "    \n",
    "    def is_full(self):\n",
    "        return self.count == len(self.items)\n",
    "    \n",
    "    def push(self, x):\n",
    "        if self.is_full():\n",
    "            raise EmptyStackError(\"Stack is Full, can't push\")\n",
    "            \n",
    "        self.items[self.count] = x\n",
    "        self.count +=1\n",
    "    \n",
    "    def pop(self):\n",
    "        if self.is_empty():\n",
    "            raise EmptyStackError(\"Stack is Empty, can't pop\")\n",
    "        x= self.items[self.count-1]\n",
    "        self.items[self.count-1]= None\n",
    "        self.count -= 1\n",
    "        return x\n",
    "    \n",
    "    def peek(self):\n",
    "        if self.is_empty():\n",
    "            raise EmptyStackError('Stack is Empty')\n",
    "        return self.items[-1]\n",
    "    \n",
    "    def display(self):\n",
    "        print(self.items)\n",
    "        \n",
    "if __name__ == '__main__':\n",
    "    st = Stack()\n",
    "    \n",
    "    st.push(1)\n",
    "    st.push(2)\n",
    "    st.push(3)\n",
    "    \n",
    "    st.display()\n",
    "    st.pop()\n",
    "    st.display()\n"
   ]
  },
  {
   "cell_type": "code",
   "execution_count": null,
   "metadata": {},
   "outputs": [],
   "source": []
  }
 ],
 "metadata": {
  "kernelspec": {
   "display_name": "Python 3",
   "language": "python",
   "name": "python3"
  },
  "language_info": {
   "codemirror_mode": {
    "name": "ipython",
    "version": 3
   },
   "file_extension": ".py",
   "mimetype": "text/x-python",
   "name": "python",
   "nbconvert_exporter": "python",
   "pygments_lexer": "ipython3",
   "version": "3.6.7"
  }
 },
 "nbformat": 4,
 "nbformat_minor": 2
}
